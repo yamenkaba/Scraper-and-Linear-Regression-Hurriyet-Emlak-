{
 "cells": [
  {
   "cell_type": "code",
   "execution_count": 1,
   "metadata": {},
   "outputs": [],
   "source": [
    "import pandas as pd\n",
    "import numpy as np\n",
    "\n",
    "pd.set_option('display.max_rows', 100)\n",
    "pd.set_option('display.max_columns', 30)"
   ]
  },
  {
   "cell_type": "code",
   "execution_count": 2,
   "metadata": {},
   "outputs": [],
   "source": [
    "df1 = pd.read_csv('./data/hurriyet1.csv')\n",
    "df2 = pd.read_csv('./data/hurriyet2.csv')\n",
    "df3 = pd.read_csv('./data/hurriyet3.csv')\n",
    "df4 = pd.read_csv('./data/hurriyet4.csv')\n",
    "df5 = pd.read_csv('./data/hurriyet5.csv')\n",
    "df6 = pd.read_csv('./data/hurriyet6.csv')\n",
    "df_combined = pd.concat([df1,df2,df3,df4,df5,df6])\n",
    "df_combined.drop_duplicates(inplace=True)\n",
    "df_combined.reset_index(drop=True,inplace=True)"
   ]
  },
  {
   "cell_type": "code",
   "execution_count": 3,
   "metadata": {},
   "outputs": [
    {
     "name": "stdout",
     "output_type": "stream",
     "text": [
      "<class 'pandas.core.frame.DataFrame'>\n",
      "RangeIndex: 25119 entries, 0 to 25118\n",
      "Data columns (total 25 columns):\n",
      " #   Column                  Non-Null Count  Dtype  \n",
      "---  ------                  --------------  -----  \n",
      " 0   city                    25119 non-null  object \n",
      " 1   district                25119 non-null  object \n",
      " 2   neighborhood            25119 non-null  object \n",
      " 3   prop_type               25119 non-null  object \n",
      " 4   rooms                   25119 non-null  int64  \n",
      " 5   living_room             25119 non-null  int64  \n",
      " 6   price                   25119 non-null  object \n",
      " 7   last_edit               25119 non-null  object \n",
      " 8   area                    25119 non-null  object \n",
      " 9   prop_floor              23849 non-null  object \n",
      " 10  building_age            25119 non-null  object \n",
      " 11  heating_type            25119 non-null  object \n",
      " 12  building_floors         23538 non-null  object \n",
      " 13  credit_availability     25117 non-null  object \n",
      " 14  furniture_availability  25119 non-null  object \n",
      " 15  bathrooms               25117 non-null  float64\n",
      " 16  building_type           21701 non-null  object \n",
      " 17  building_status         21983 non-null  object \n",
      " 18  usage_status            22387 non-null  object \n",
      " 19  deed                    19412 non-null  object \n",
      " 20  dues                    9719 non-null   object \n",
      " 21  swap                    17715 non-null  object \n",
      " 22  student_single          13358 non-null  object \n",
      " 23  facade                  18684 non-null  object \n",
      " 24  fuel_type               22486 non-null  object \n",
      "dtypes: float64(1), int64(2), object(22)\n",
      "memory usage: 4.8+ MB\n"
     ]
    }
   ],
   "source": [
    "df_combined.info()"
   ]
  },
  {
   "cell_type": "code",
   "execution_count": 4,
   "metadata": {},
   "outputs": [
    {
     "data": {
      "text/html": [
       "<div>\n",
       "<style scoped>\n",
       "    .dataframe tbody tr th:only-of-type {\n",
       "        vertical-align: middle;\n",
       "    }\n",
       "\n",
       "    .dataframe tbody tr th {\n",
       "        vertical-align: top;\n",
       "    }\n",
       "\n",
       "    .dataframe thead th {\n",
       "        text-align: right;\n",
       "    }\n",
       "</style>\n",
       "<table border=\"1\" class=\"dataframe\">\n",
       "  <thead>\n",
       "    <tr style=\"text-align: right;\">\n",
       "      <th></th>\n",
       "      <th>city</th>\n",
       "      <th>district</th>\n",
       "      <th>neighborhood</th>\n",
       "      <th>prop_type</th>\n",
       "      <th>rooms</th>\n",
       "      <th>living_room</th>\n",
       "      <th>price</th>\n",
       "      <th>last_edit</th>\n",
       "      <th>area</th>\n",
       "      <th>prop_floor</th>\n",
       "      <th>building_age</th>\n",
       "      <th>heating_type</th>\n",
       "      <th>building_floors</th>\n",
       "      <th>credit_availability</th>\n",
       "      <th>furniture_availability</th>\n",
       "      <th>bathrooms</th>\n",
       "      <th>building_type</th>\n",
       "      <th>building_status</th>\n",
       "      <th>usage_status</th>\n",
       "      <th>deed</th>\n",
       "      <th>dues</th>\n",
       "      <th>swap</th>\n",
       "      <th>student_single</th>\n",
       "      <th>facade</th>\n",
       "      <th>fuel_type</th>\n",
       "    </tr>\n",
       "  </thead>\n",
       "  <tbody>\n",
       "    <tr>\n",
       "      <th>0</th>\n",
       "      <td>İstanbul</td>\n",
       "      <td>Şişli</td>\n",
       "      <td>Fulya</td>\n",
       "      <td>Daire</td>\n",
       "      <td>3</td>\n",
       "      <td>1</td>\n",
       "      <td>980.000 TL</td>\n",
       "      <td>Bugün</td>\n",
       "      <td>140 m2</td>\n",
       "      <td>7. Kat</td>\n",
       "      <td>30 Yaşında</td>\n",
       "      <td>Kombi</td>\n",
       "      <td>8 Katlı</td>\n",
       "      <td>Uygun</td>\n",
       "      <td>Eşyalı Değil</td>\n",
       "      <td>2.0</td>\n",
       "      <td>Betonarme</td>\n",
       "      <td>İkinci El</td>\n",
       "      <td>Boş</td>\n",
       "      <td>Kat Mülkiyeti</td>\n",
       "      <td>200 TL</td>\n",
       "      <td>Hayır</td>\n",
       "      <td>Evet</td>\n",
       "      <td>Güney,</td>\n",
       "      <td>Doğalgaz</td>\n",
       "    </tr>\n",
       "    <tr>\n",
       "      <th>1</th>\n",
       "      <td>İstanbul</td>\n",
       "      <td>Beşiktaş</td>\n",
       "      <td>Gayrettepe</td>\n",
       "      <td>Daire</td>\n",
       "      <td>3</td>\n",
       "      <td>1</td>\n",
       "      <td>900.000 TL</td>\n",
       "      <td>Bugün</td>\n",
       "      <td>110 m2</td>\n",
       "      <td>8. Kat</td>\n",
       "      <td>30 Yaşında</td>\n",
       "      <td>Merkezi</td>\n",
       "      <td>9 Katlı</td>\n",
       "      <td>Uygun</td>\n",
       "      <td>Eşyalı Değil</td>\n",
       "      <td>1.0</td>\n",
       "      <td>Betonarme</td>\n",
       "      <td>İkinci El</td>\n",
       "      <td>Boş</td>\n",
       "      <td>Kat Mülkiyeti</td>\n",
       "      <td>450 TL</td>\n",
       "      <td>Hayır</td>\n",
       "      <td>Evet</td>\n",
       "      <td>Kuzey,</td>\n",
       "      <td>Doğalgaz</td>\n",
       "    </tr>\n",
       "    <tr>\n",
       "      <th>2</th>\n",
       "      <td>İstanbul</td>\n",
       "      <td>Ümraniye</td>\n",
       "      <td>Yamanevler</td>\n",
       "      <td>Daire</td>\n",
       "      <td>3</td>\n",
       "      <td>1</td>\n",
       "      <td>1.890.000 TL</td>\n",
       "      <td>Bugün</td>\n",
       "      <td>178 m2</td>\n",
       "      <td>10. Kat</td>\n",
       "      <td>Sıfır Bina</td>\n",
       "      <td>Merkezi (Pay Ölçer)</td>\n",
       "      <td>29 Katlı</td>\n",
       "      <td>Uygun</td>\n",
       "      <td>Eşyalı Değil</td>\n",
       "      <td>2.0</td>\n",
       "      <td>Betonarme</td>\n",
       "      <td>Sıfır</td>\n",
       "      <td>Ev Sahibi Oturuyor</td>\n",
       "      <td>Kat Mülkiyeti</td>\n",
       "      <td>622 TL</td>\n",
       "      <td>Hayır</td>\n",
       "      <td>Evet</td>\n",
       "      <td>Güney,</td>\n",
       "      <td>Doğalgaz</td>\n",
       "    </tr>\n",
       "    <tr>\n",
       "      <th>3</th>\n",
       "      <td>İstanbul</td>\n",
       "      <td>Eyüpsultan</td>\n",
       "      <td>Göktürk Merkez</td>\n",
       "      <td>Villa</td>\n",
       "      <td>6</td>\n",
       "      <td>1</td>\n",
       "      <td>12.500.000 TL</td>\n",
       "      <td>Bugün</td>\n",
       "      <td>500 m2</td>\n",
       "      <td>Villa Katı</td>\n",
       "      <td>10 Yaşında</td>\n",
       "      <td>Kombi</td>\n",
       "      <td>4 Katlı</td>\n",
       "      <td>Uygun</td>\n",
       "      <td>Eşyalı Değil</td>\n",
       "      <td>4.0</td>\n",
       "      <td>Betonarme</td>\n",
       "      <td>İkinci El</td>\n",
       "      <td>Ev Sahibi Oturuyor</td>\n",
       "      <td>Kat Mülkiyeti</td>\n",
       "      <td>1.800 TL</td>\n",
       "      <td>Hayır</td>\n",
       "      <td>Evet</td>\n",
       "      <td>Güney,</td>\n",
       "      <td>Doğalgaz</td>\n",
       "    </tr>\n",
       "    <tr>\n",
       "      <th>4</th>\n",
       "      <td>İstanbul</td>\n",
       "      <td>Avcılar</td>\n",
       "      <td>Mustafa Kemal Paşa</td>\n",
       "      <td>Daire</td>\n",
       "      <td>4</td>\n",
       "      <td>1</td>\n",
       "      <td>329.000 TL</td>\n",
       "      <td>Bugün</td>\n",
       "      <td>155 m2</td>\n",
       "      <td>2. Kat</td>\n",
       "      <td>Sıfır Bina</td>\n",
       "      <td>Kombi</td>\n",
       "      <td>5 Katlı</td>\n",
       "      <td>Uygun</td>\n",
       "      <td>Eşyalı Değil</td>\n",
       "      <td>1.0</td>\n",
       "      <td>Betonarme</td>\n",
       "      <td>Sıfır</td>\n",
       "      <td>Boş</td>\n",
       "      <td>Kat Mülkiyeti</td>\n",
       "      <td>NaN</td>\n",
       "      <td>Evet</td>\n",
       "      <td>Evet</td>\n",
       "      <td>Güney</td>\n",
       "      <td>Doğalgaz</td>\n",
       "    </tr>\n",
       "  </tbody>\n",
       "</table>\n",
       "</div>"
      ],
      "text/plain": [
       "       city    district        neighborhood prop_type  rooms  living_room  \\\n",
       "0  İstanbul       Şişli               Fulya     Daire      3            1   \n",
       "1  İstanbul    Beşiktaş          Gayrettepe     Daire      3            1   \n",
       "2  İstanbul    Ümraniye          Yamanevler     Daire      3            1   \n",
       "3  İstanbul  Eyüpsultan      Göktürk Merkez     Villa      6            1   \n",
       "4  İstanbul     Avcılar  Mustafa Kemal Paşa     Daire      4            1   \n",
       "\n",
       "           price last_edit    area  prop_floor building_age  \\\n",
       "0     980.000 TL     Bugün  140 m2      7. Kat   30 Yaşında   \n",
       "1     900.000 TL     Bugün  110 m2      8. Kat   30 Yaşında   \n",
       "2   1.890.000 TL     Bugün  178 m2     10. Kat   Sıfır Bina   \n",
       "3  12.500.000 TL     Bugün  500 m2  Villa Katı   10 Yaşında   \n",
       "4     329.000 TL     Bugün  155 m2      2. Kat   Sıfır Bina   \n",
       "\n",
       "          heating_type building_floors credit_availability  \\\n",
       "0                Kombi         8 Katlı               Uygun   \n",
       "1              Merkezi         9 Katlı               Uygun   \n",
       "2  Merkezi (Pay Ölçer)        29 Katlı               Uygun   \n",
       "3                Kombi         4 Katlı               Uygun   \n",
       "4                Kombi         5 Katlı               Uygun   \n",
       "\n",
       "  furniture_availability  bathrooms building_type building_status  \\\n",
       "0           Eşyalı Değil        2.0     Betonarme       İkinci El   \n",
       "1           Eşyalı Değil        1.0     Betonarme       İkinci El   \n",
       "2           Eşyalı Değil        2.0     Betonarme           Sıfır   \n",
       "3           Eşyalı Değil        4.0     Betonarme       İkinci El   \n",
       "4           Eşyalı Değil        1.0     Betonarme           Sıfır   \n",
       "\n",
       "         usage_status           deed      dues   swap student_single  facade  \\\n",
       "0                 Boş  Kat Mülkiyeti    200 TL  Hayır           Evet  Güney,   \n",
       "1                 Boş  Kat Mülkiyeti    450 TL  Hayır           Evet  Kuzey,   \n",
       "2  Ev Sahibi Oturuyor  Kat Mülkiyeti    622 TL  Hayır           Evet  Güney,   \n",
       "3  Ev Sahibi Oturuyor  Kat Mülkiyeti  1.800 TL  Hayır           Evet  Güney,   \n",
       "4                 Boş  Kat Mülkiyeti       NaN   Evet           Evet   Güney   \n",
       "\n",
       "  fuel_type  \n",
       "0  Doğalgaz  \n",
       "1  Doğalgaz  \n",
       "2  Doğalgaz  \n",
       "3  Doğalgaz  \n",
       "4  Doğalgaz  "
      ]
     },
     "execution_count": 4,
     "metadata": {},
     "output_type": "execute_result"
    }
   ],
   "source": [
    "df_combined.head()"
   ]
  },
  {
   "cell_type": "code",
   "execution_count": 5,
   "metadata": {},
   "outputs": [
    {
     "data": {
      "text/plain": [
       "İstanbul    25119\n",
       "Name: city, dtype: int64"
      ]
     },
     "execution_count": 5,
     "metadata": {},
     "output_type": "execute_result"
    }
   ],
   "source": [
    "df_combined['city'].value_counts()"
   ]
  },
  {
   "cell_type": "code",
   "execution_count": 6,
   "metadata": {},
   "outputs": [
    {
     "data": {
      "text/plain": [
       "Kadıköy          3498\n",
       "Maltepe          1562\n",
       "Beylikdüzü       1479\n",
       "Sarıyer          1466\n",
       "Beşiktaş         1460\n",
       "Şişli            1445\n",
       "Bahçelievler     1316\n",
       "Bakırköy         1261\n",
       "Üsküdar          1131\n",
       "Kağıthane        1045\n",
       "Fatih             848\n",
       "Esenyurt          806\n",
       "Eyüpsultan        772\n",
       "Küçükçekmece      549\n",
       "Büyükçekmece      531\n",
       "Beyoğlu           525\n",
       "Avcılar           382\n",
       "Güngören          370\n",
       "Kartal            368\n",
       "Ataşehir          366\n",
       "Başakşehir        340\n",
       "Beykoz            331\n",
       "Çekmeköy          326\n",
       "Ümraniye          321\n",
       "Gaziosmanpaşa     291\n",
       "Adalar            265\n",
       "Sancaktepe        258\n",
       "Zeytinburnu       252\n",
       "Pendik            242\n",
       "Silivri           239\n",
       "Bağcılar          196\n",
       "Tuzla             191\n",
       "Bayrampaşa        165\n",
       "Şile              139\n",
       "Esenler           124\n",
       "Sultangazi         86\n",
       "Arnavutköy         82\n",
       "Sultanbeyli        55\n",
       "Çatalca            36\n",
       "Name: district, dtype: int64"
      ]
     },
     "execution_count": 6,
     "metadata": {},
     "output_type": "execute_result"
    }
   ],
   "source": [
    "df_combined['district'].value_counts()"
   ]
  },
  {
   "cell_type": "code",
   "execution_count": 7,
   "metadata": {},
   "outputs": [
    {
     "data": {
      "text/plain": [
       "Cumhuriyet            908\n",
       "Suadiye               751\n",
       "Caddebostan           492\n",
       "Fenerbahçe            427\n",
       "Siyavuşpaşa           410\n",
       "                     ... \n",
       "Çelebi                  1\n",
       "Oklalı                  1\n",
       "Paşamandıra             1\n",
       "Mahmut Şevket Paşa      1\n",
       "Habibler                1\n",
       "Name: neighborhood, Length: 629, dtype: int64"
      ]
     },
     "execution_count": 7,
     "metadata": {},
     "output_type": "execute_result"
    }
   ],
   "source": [
    "df_combined['neighborhood'].value_counts()"
   ]
  },
  {
   "cell_type": "code",
   "execution_count": 8,
   "metadata": {},
   "outputs": [
    {
     "data": {
      "text/plain": [
       "Daire           21698\n",
       "Villa            1354\n",
       "Residence        1067\n",
       "Bina              414\n",
       "Müstakil Ev       331\n",
       "Köşk               62\n",
       "Yalı Dairesi       56\n",
       "Yalı               51\n",
       "Çiftlik Evi        41\n",
       "Yazlık             27\n",
       "Köy Evi             9\n",
       "Loft Daire          6\n",
       "Kooperatif          2\n",
       "Dağ Evi             1\n",
       "Name: prop_type, dtype: int64"
      ]
     },
     "execution_count": 8,
     "metadata": {},
     "output_type": "execute_result"
    }
   ],
   "source": [
    "df_combined['prop_type'].value_counts()"
   ]
  },
  {
   "cell_type": "code",
   "execution_count": 9,
   "metadata": {},
   "outputs": [
    {
     "data": {
      "text/plain": [
       "2      8708\n",
       "3      7939\n",
       "4      3418\n",
       "1      2180\n",
       "5      1602\n",
       "6       652\n",
       "7       233\n",
       "8       140\n",
       "9        64\n",
       "10       48\n",
       "12       33\n",
       "15       17\n",
       "16       11\n",
       "14       11\n",
       "20        8\n",
       "21        8\n",
       "31        6\n",
       "11        6\n",
       "30        5\n",
       "18        4\n",
       "40        3\n",
       "22        3\n",
       "51        2\n",
       "32        2\n",
       "17        2\n",
       "125       2\n",
       "140       2\n",
       "26        2\n",
       "25        2\n",
       "135       1\n",
       "13        1\n",
       "27        1\n",
       "36        1\n",
       "41        1\n",
       "295       1\n",
       "Name: rooms, dtype: int64"
      ]
     },
     "execution_count": 9,
     "metadata": {},
     "output_type": "execute_result"
    }
   ],
   "source": [
    "df_combined['rooms'].value_counts()"
   ]
  },
  {
   "cell_type": "code",
   "execution_count": 10,
   "metadata": {},
   "outputs": [
    {
     "data": {
      "text/plain": [
       "1      21719\n",
       "2       2901\n",
       "3        203\n",
       "0        107\n",
       "4         91\n",
       "5         29\n",
       "8         13\n",
       "7         13\n",
       "6         12\n",
       "10         5\n",
       "11         4\n",
       "9          4\n",
       "150        3\n",
       "20         2\n",
       "135        2\n",
       "120        2\n",
       "105        2\n",
       "32         2\n",
       "15         2\n",
       "12         1\n",
       "18         1\n",
       "25         1\n",
       "Name: living_room, dtype: int64"
      ]
     },
     "execution_count": 10,
     "metadata": {},
     "output_type": "execute_result"
    }
   ],
   "source": [
    "df_combined['living_room'].value_counts()"
   ]
  },
  {
   "cell_type": "code",
   "execution_count": 11,
   "metadata": {},
   "outputs": [],
   "source": [
    "df_combined.loc[:,'price'] = df_combined.loc[:,'price'].str.split(' ').str[0]\n",
    "df_combined.loc[:,'price'] = df_combined.loc[:,'price'].str.replace('.','')\n",
    "df_combined.loc[:,'price'] = df_combined.loc[:,'price'].str.replace(',','')\n",
    "df_combined['price'] = df_combined['price'].astype('int64')"
   ]
  },
  {
   "cell_type": "code",
   "execution_count": 12,
   "metadata": {},
   "outputs": [
    {
     "data": {
      "text/plain": [
       "0          980000\n",
       "1          900000\n",
       "2         1890000\n",
       "3        12500000\n",
       "4          329000\n",
       "           ...   \n",
       "25114      460000\n",
       "25115     1500000\n",
       "25116     3850000\n",
       "25117      235000\n",
       "25118      535000\n",
       "Name: price, Length: 25119, dtype: int64"
      ]
     },
     "execution_count": 12,
     "metadata": {},
     "output_type": "execute_result"
    }
   ],
   "source": [
    "df_combined['price']"
   ]
  },
  {
   "cell_type": "code",
   "execution_count": 13,
   "metadata": {},
   "outputs": [],
   "source": [
    "mapper_last_edit = {\n",
    "    'Bugün': '0 Gun',\n",
    "    'Dün': '1 Gun'\n",
    "}\n",
    "\n",
    "df_combined['last_edit'] = df_combined['last_edit'].map(mapper_last_edit).fillna(df_combined['last_edit'])\n",
    "df_combined.loc[:,'last_edit'] = df_combined.loc[:,'last_edit'].str.split(' ').str[0]\n",
    "df_combined['last_edit'] = df_combined['last_edit'].astype('int64')\n",
    "df_combined['last_edit'] = df_combined['last_edit']"
   ]
  },
  {
   "cell_type": "code",
   "execution_count": 14,
   "metadata": {},
   "outputs": [
    {
     "data": {
      "text/plain": [
       "4      2367\n",
       "3      2116\n",
       "5      1935\n",
       "0      1607\n",
       "6      1217\n",
       "9      1156\n",
       "1      1062\n",
       "2      1040\n",
       "10      980\n",
       "8       831\n",
       "11      733\n",
       "7       729\n",
       "13      713\n",
       "12      670\n",
       "19      574\n",
       "16      557\n",
       "17      556\n",
       "18      515\n",
       "15      495\n",
       "20      485\n",
       "23      456\n",
       "14      450\n",
       "25      411\n",
       "24      370\n",
       "26      365\n",
       "22      347\n",
       "27      333\n",
       "21      308\n",
       "28      276\n",
       "30      248\n",
       "29      222\n",
       "31      137\n",
       "32       86\n",
       "33       69\n",
       "37       54\n",
       "36       46\n",
       "35       46\n",
       "38       40\n",
       "41       38\n",
       "34       37\n",
       "39       35\n",
       "42       34\n",
       "40       33\n",
       "44       30\n",
       "45       28\n",
       "43       26\n",
       "46       25\n",
       "48       21\n",
       "54       17\n",
       "58       17\n",
       "55       16\n",
       "59       15\n",
       "52       15\n",
       "49       15\n",
       "47       13\n",
       "53       13\n",
       "56       13\n",
       "51       12\n",
       "50       12\n",
       "57       11\n",
       "60        8\n",
       "68        3\n",
       "88        3\n",
       "62        3\n",
       "70        3\n",
       "82        3\n",
       "64        2\n",
       "80        1\n",
       "118       1\n",
       "71        1\n",
       "94        1\n",
       "142       1\n",
       "61        1\n",
       "119       1\n",
       "65        1\n",
       "81        1\n",
       "97        1\n",
       "73        1\n",
       "92        1\n",
       "98        1\n",
       "72        1\n",
       "99        1\n",
       "159       1\n",
       "Name: last_edit, dtype: int64"
      ]
     },
     "execution_count": 14,
     "metadata": {},
     "output_type": "execute_result"
    }
   ],
   "source": [
    "df_combined['last_edit'].value_counts()"
   ]
  },
  {
   "cell_type": "code",
   "execution_count": 15,
   "metadata": {},
   "outputs": [],
   "source": [
    "df_combined['area'] = df_combined.loc[:,'area'].str.split(' ').str[0]\n",
    "df_combined['area'] = df_combined['area'].astype('float64')"
   ]
  },
  {
   "cell_type": "code",
   "execution_count": 16,
   "metadata": {},
   "outputs": [
    {
     "data": {
      "text/plain": [
       "0        140.0\n",
       "1        110.0\n",
       "2        178.0\n",
       "3        500.0\n",
       "4        155.0\n",
       "         ...  \n",
       "25114     95.0\n",
       "25115     85.0\n",
       "25116    590.0\n",
       "25117    110.0\n",
       "25118    130.0\n",
       "Name: area, Length: 25119, dtype: float64"
      ]
     },
     "execution_count": 16,
     "metadata": {},
     "output_type": "execute_result"
    }
   ],
   "source": [
    "df_combined['area']"
   ]
  },
  {
   "cell_type": "code",
   "execution_count": 17,
   "metadata": {},
   "outputs": [],
   "source": [
    "df_combined.loc[:,'prop_floor'] = df_combined.loc[:,'prop_floor'].str.split(' ').str[0]\n",
    "\n",
    "asma_index = df_combined[df_combined['prop_floor'] == 'Asma'].index\n",
    "villa_index = df_combined[df_combined['prop_floor'] == 'Villa'].index\n",
    "bodrum_index = df_combined[df_combined['prop_floor'] == 'Bodrum'].index\n",
    "teras_index = df_combined[df_combined['prop_floor'] == 'Teras'].index\n",
    "zemin_index = df_combined[df_combined['prop_floor'] == 'Zemin'].index\n",
    "yari_index = df_combined[df_combined['prop_floor'] == 'Yarı'].index\n",
    "cat_index = df_combined[df_combined['prop_floor'] == 'Çatı'].index\n",
    "ara_index = df_combined[df_combined['prop_floor'] == 'Ara'].index\n",
    "en_index = df_combined[df_combined['prop_floor'] == 'En'].index\n",
    "kot_index = df_combined[df_combined['prop_floor'] == 'Kot'].index\n",
    "\n",
    "df_combined.drop(asma_index , inplace=True)\n",
    "df_combined.drop(villa_index , inplace=True)\n",
    "df_combined.drop(bodrum_index , inplace=True)\n",
    "df_combined.drop(teras_index , inplace=True)\n",
    "df_combined.drop(zemin_index , inplace=True)\n",
    "df_combined.drop(yari_index , inplace=True)\n",
    "df_combined.drop(cat_index , inplace=True)\n",
    "df_combined.drop(ara_index , inplace=True)\n",
    "df_combined.drop(en_index , inplace=True)\n",
    "df_combined.drop(kot_index , inplace=True)"
   ]
  },
  {
   "cell_type": "code",
   "execution_count": 18,
   "metadata": {},
   "outputs": [],
   "source": [
    "df_combined = df_combined.dropna(subset=['prop_floor'])\n",
    "\n",
    "mapper_prop_floor = {\n",
    "    'Bahçe': '0.',\n",
    "    'Giriş': '0.',\n",
    "    'Yüksek': '1.',\n",
    "}\n",
    "\n",
    "df_combined['prop_floor'] = df_combined['prop_floor'].map(mapper_prop_floor).fillna(df_combined['prop_floor'])\n",
    "df_combined.loc[:,'prop_floor'] = df_combined.loc[:,'prop_floor'].str.split('.').str[0]\n",
    "df_combined['prop_floor'] = df_combined['prop_floor'].astype('int64')\n",
    "df_combined['prop_floor'] = df_combined['prop_floor'] + 1"
   ]
  },
  {
   "cell_type": "code",
   "execution_count": 19,
   "metadata": {},
   "outputs": [
    {
     "data": {
      "text/plain": [
       "2     3905\n",
       "4     2979\n",
       "3     2815\n",
       "1     2752\n",
       "5     2676\n",
       "6     1522\n",
       "7      709\n",
       "8      573\n",
       "9      515\n",
       "11     505\n",
       "10     488\n",
       "12     334\n",
       "13     289\n",
       "22     276\n",
       "14     215\n",
       "15     183\n",
       "16     115\n",
       "18      61\n",
       "17      57\n",
       "19      38\n",
       "20      33\n",
       "21      32\n",
       "Name: prop_floor, dtype: int64"
      ]
     },
     "execution_count": 19,
     "metadata": {},
     "output_type": "execute_result"
    }
   ],
   "source": [
    "df_combined['prop_floor'].value_counts()"
   ]
  },
  {
   "cell_type": "code",
   "execution_count": 20,
   "metadata": {},
   "outputs": [],
   "source": [
    "df_combined.loc[:,'building_age'] = df_combined.loc[:,'building_age'].str.split(' ').str[0]\n",
    "\n",
    "mapper_building_age = {\n",
    "    'Sıfır': '0'\n",
    "}\n",
    "\n",
    "df_combined['building_age'] = df_combined['building_age'].map(mapper_building_age).fillna(df_combined['building_age'])\n",
    "df_combined['building_age'] = df_combined['building_age'].astype('int64')"
   ]
  },
  {
   "cell_type": "code",
   "execution_count": 21,
   "metadata": {},
   "outputs": [
    {
     "data": {
      "text/plain": [
       "0      5699\n",
       "30     1311\n",
       "25     1097\n",
       "4      1060\n",
       "2      1030\n",
       "1      1030\n",
       "3       917\n",
       "5       772\n",
       "20      738\n",
       "10      720\n",
       "35      684\n",
       "8       536\n",
       "40      483\n",
       "15      435\n",
       "7       430\n",
       "6       402\n",
       "12      278\n",
       "28      263\n",
       "9       263\n",
       "26      220\n",
       "22      174\n",
       "27      162\n",
       "18      156\n",
       "16      152\n",
       "21      149\n",
       "13      146\n",
       "29      143\n",
       "11      137\n",
       "32      126\n",
       "23      124\n",
       "19      121\n",
       "31      119\n",
       "45      115\n",
       "14      111\n",
       "50      109\n",
       "17       96\n",
       "24       90\n",
       "38       61\n",
       "33       55\n",
       "34       47\n",
       "36       40\n",
       "37       36\n",
       "60       33\n",
       "42       22\n",
       "100      21\n",
       "80       20\n",
       "39       19\n",
       "43       11\n",
       "46       10\n",
       "55        9\n",
       "90        8\n",
       "44        8\n",
       "41        8\n",
       "48        7\n",
       "70        6\n",
       "65        5\n",
       "49        5\n",
       "95        4\n",
       "52        4\n",
       "130       3\n",
       "110       3\n",
       "75        3\n",
       "74        2\n",
       "120       2\n",
       "150       2\n",
       "51        2\n",
       "53        2\n",
       "85        1\n",
       "98        1\n",
       "47        1\n",
       "67        1\n",
       "250       1\n",
       "96        1\n",
       "128       1\n",
       "58        1\n",
       "201       1\n",
       "69        1\n",
       "87        1\n",
       "99        1\n",
       "79        1\n",
       "86        1\n",
       "117       1\n",
       "71        1\n",
       "Name: building_age, dtype: int64"
      ]
     },
     "execution_count": 21,
     "metadata": {},
     "output_type": "execute_result"
    }
   ],
   "source": [
    "df_combined['building_age'].value_counts()"
   ]
  },
  {
   "cell_type": "code",
   "execution_count": 22,
   "metadata": {},
   "outputs": [
    {
     "data": {
      "text/plain": [
       "Kombi                  15127\n",
       "Merkezi (Pay Ölçer)     3317\n",
       "Merkezi                 2156\n",
       "Soba                     139\n",
       "Klima                     97\n",
       "Belirtilmemiş             81\n",
       "Kat Kaloriferi            73\n",
       "Isıtma Yok                66\n",
       "Jeotermal Isıtma          12\n",
       "Güneş Enerjisi             4\n",
       "Name: heating_type, dtype: int64"
      ]
     },
     "execution_count": 22,
     "metadata": {},
     "output_type": "execute_result"
    }
   ],
   "source": [
    "heating_type_oreder = df_combined['heating_type'].value_counts()\n",
    "heating_type_oreder"
   ]
  },
  {
   "cell_type": "code",
   "execution_count": 23,
   "metadata": {},
   "outputs": [],
   "source": [
    "mark = list(heating_type_oreder[heating_type_oreder < 111].index)\n",
    "df_combined[\"heating_type\"] = df_combined[\"heating_type\"].replace(mark,\"Diger\")"
   ]
  },
  {
   "cell_type": "code",
   "execution_count": 24,
   "metadata": {},
   "outputs": [],
   "source": [
    "mapper_heating_type = {\n",
    "    'Soba': 1,\n",
    "    'Diger': 2,\n",
    "    'Kombi': 3,\n",
    "    'Merkezi': 4,\n",
    "    'Merkezi (Pay Ölçer)': 5\n",
    "}\n",
    "\n",
    "df_combined['heating_type'] = df_combined['heating_type'].map(mapper_heating_type)\n",
    "df_combined['heating_type'] = df_combined['heating_type'].astype('int64')"
   ]
  },
  {
   "cell_type": "code",
   "execution_count": 25,
   "metadata": {},
   "outputs": [],
   "source": [
    "df_combined.loc[:,'building_floors'] = df_combined.loc[:,'building_floors'].str.split(' ').str[0]\n",
    "df_combined = df_combined.dropna(subset=['building_floors'])"
   ]
  },
  {
   "cell_type": "code",
   "execution_count": 26,
   "metadata": {},
   "outputs": [
    {
     "data": {
      "text/plain": [
       "4      5539\n",
       "5      4883\n",
       "3      1779\n",
       "6      1465\n",
       "9       751\n",
       "7       731\n",
       "10      729\n",
       "8       679\n",
       "12      570\n",
       "14      557\n",
       "11      499\n",
       "13      431\n",
       "15      365\n",
       "2       258\n",
       "17      167\n",
       "16      156\n",
       "20      140\n",
       "18      130\n",
       "30       81\n",
       "32       81\n",
       "22       78\n",
       "33       77\n",
       "19       77\n",
       "1        59\n",
       "25       58\n",
       "52       43\n",
       "24       43\n",
       "42       42\n",
       "23       41\n",
       "21       40\n",
       "40       38\n",
       "29       28\n",
       "27       23\n",
       "31       22\n",
       "35       21\n",
       "44       20\n",
       "45       19\n",
       "34       18\n",
       "36       17\n",
       "28       17\n",
       "26       14\n",
       "55       13\n",
       "37        8\n",
       "48        8\n",
       "39        6\n",
       "56        5\n",
       "54        4\n",
       "50        4\n",
       "38        4\n",
       "51        4\n",
       "41        4\n",
       "46        2\n",
       "75        1\n",
       "65        1\n",
       "57        1\n",
       "112       1\n",
       "190       1\n",
       "47        1\n",
       "Name: building_floors, dtype: int64"
      ]
     },
     "execution_count": 26,
     "metadata": {},
     "output_type": "execute_result"
    }
   ],
   "source": [
    "df_combined['building_floors'] = df_combined['building_floors'].astype('int64')\n",
    "df_combined['building_floors'].value_counts()"
   ]
  },
  {
   "cell_type": "code",
   "execution_count": 27,
   "metadata": {},
   "outputs": [],
   "source": [
    "df_combined['credit_availability'].fillna('Bilinmiyor',inplace=True)"
   ]
  },
  {
   "cell_type": "code",
   "execution_count": 28,
   "metadata": {},
   "outputs": [
    {
     "data": {
      "text/plain": [
       "Uygun          19736\n",
       "Uygun değil      985\n",
       "Bilinmiyor       133\n",
       "Name: credit_availability, dtype: int64"
      ]
     },
     "execution_count": 28,
     "metadata": {},
     "output_type": "execute_result"
    }
   ],
   "source": [
    "df_combined['credit_availability'].value_counts()"
   ]
  },
  {
   "cell_type": "code",
   "execution_count": 29,
   "metadata": {},
   "outputs": [
    {
     "data": {
      "text/plain": [
       "Eşyalı Değil    20254\n",
       "Eşyalı            600\n",
       "Name: furniture_availability, dtype: int64"
      ]
     },
     "execution_count": 29,
     "metadata": {},
     "output_type": "execute_result"
    }
   ],
   "source": [
    "df_combined['furniture_availability'].value_counts()"
   ]
  },
  {
   "cell_type": "code",
   "execution_count": 30,
   "metadata": {},
   "outputs": [],
   "source": [
    "df_combined['bathrooms'].fillna(1,inplace=True)\n",
    "df_combined['bathrooms'] = df_combined['bathrooms'].astype('int64')"
   ]
  },
  {
   "cell_type": "code",
   "execution_count": 31,
   "metadata": {},
   "outputs": [
    {
     "data": {
      "text/plain": [
       "1     11500\n",
       "2      7003\n",
       "3      1593\n",
       "4       528\n",
       "5       125\n",
       "6        45\n",
       "7        13\n",
       "8         7\n",
       "20        5\n",
       "10        5\n",
       "9         5\n",
       "15        3\n",
       "14        3\n",
       "24        3\n",
       "11        3\n",
       "13        3\n",
       "16        3\n",
       "21        2\n",
       "23        1\n",
       "25        1\n",
       "27        1\n",
       "12        1\n",
       "29        1\n",
       "Name: bathrooms, dtype: int64"
      ]
     },
     "execution_count": 31,
     "metadata": {},
     "output_type": "execute_result"
    }
   ],
   "source": [
    "df_combined['bathrooms'].value_counts()"
   ]
  },
  {
   "cell_type": "code",
   "execution_count": 32,
   "metadata": {},
   "outputs": [],
   "source": [
    "df_combined['building_type'].fillna('Diğer',inplace=True)"
   ]
  },
  {
   "cell_type": "code",
   "execution_count": 33,
   "metadata": {},
   "outputs": [
    {
     "data": {
      "text/plain": [
       "Betonarme    18294\n",
       "Diğer         2183\n",
       "Çelik          149\n",
       "Kagir          129\n",
       "Yığma           44\n",
       "Ahşap           38\n",
       "Taş Bina        14\n",
       "Kütük            2\n",
       "Prefabrik        1\n",
       "Name: building_type, dtype: int64"
      ]
     },
     "execution_count": 33,
     "metadata": {},
     "output_type": "execute_result"
    }
   ],
   "source": [
    "df_combined['building_type'].value_counts()"
   ]
  },
  {
   "cell_type": "code",
   "execution_count": 34,
   "metadata": {},
   "outputs": [],
   "source": [
    "df_combined['building_status'].fillna('İkinci El',inplace=True)"
   ]
  },
  {
   "cell_type": "code",
   "execution_count": 35,
   "metadata": {},
   "outputs": [
    {
     "data": {
      "text/plain": [
       "İkinci El           13810\n",
       "Sıfır                6973\n",
       "Yapım Aşamasında       71\n",
       "Name: building_status, dtype: int64"
      ]
     },
     "execution_count": 35,
     "metadata": {},
     "output_type": "execute_result"
    }
   ],
   "source": [
    "df_combined['building_status'].value_counts()"
   ]
  },
  {
   "cell_type": "code",
   "execution_count": 36,
   "metadata": {},
   "outputs": [],
   "source": [
    "mapper_building_status = {\n",
    "    'Yapım Aşamasında': 1,\n",
    "    'İkinci El': 2,\n",
    "    'Sıfır': 3\n",
    "}\n",
    "\n",
    "df_combined['building_status'] = df_combined['building_status'].map(mapper_building_status)\n",
    "df_combined['building_status'] = df_combined['building_status'].astype('int64')"
   ]
  },
  {
   "cell_type": "code",
   "execution_count": 37,
   "metadata": {},
   "outputs": [],
   "source": [
    "df_combined['usage_status'].fillna('Diğer',inplace=True)\n",
    "\n",
    "mapper_usage_status = {\n",
    "    'Belirtilmemiş': 'Diğer'\n",
    "}\n",
    "\n",
    "df_combined['usage_status'] = df_combined['usage_status'].map(mapper_usage_status).fillna(df_combined['usage_status'])"
   ]
  },
  {
   "cell_type": "code",
   "execution_count": 38,
   "metadata": {},
   "outputs": [
    {
     "data": {
      "text/plain": [
       "Boş                   10737\n",
       "Kiracı Oturuyor        4199\n",
       "Ev Sahibi Oturuyor     4027\n",
       "Diğer                  1891\n",
       "Name: usage_status, dtype: int64"
      ]
     },
     "execution_count": 38,
     "metadata": {},
     "output_type": "execute_result"
    }
   ],
   "source": [
    "df_combined['usage_status'].value_counts()"
   ]
  },
  {
   "cell_type": "code",
   "execution_count": 39,
   "metadata": {},
   "outputs": [],
   "source": [
    "df_combined['deed'].fillna('Diğer',inplace=True)\n",
    "deed_index = df_combined[df_combined['deed'] == 'Arsa'].index\n",
    "df_combined.drop(deed_index , inplace=True)"
   ]
  },
  {
   "cell_type": "code",
   "execution_count": 40,
   "metadata": {},
   "outputs": [
    {
     "data": {
      "text/plain": [
       "Kat Mülkiyeti    13324\n",
       "Diğer             4096\n",
       "Kat İrtifakı      2812\n",
       "Name: deed, dtype: int64"
      ]
     },
     "execution_count": 40,
     "metadata": {},
     "output_type": "execute_result"
    }
   ],
   "source": [
    "df_combined['deed'].value_counts()"
   ]
  },
  {
   "cell_type": "code",
   "execution_count": 41,
   "metadata": {},
   "outputs": [],
   "source": [
    "df_combined.drop('dues',axis=1,inplace=True)"
   ]
  },
  {
   "cell_type": "code",
   "execution_count": 42,
   "metadata": {},
   "outputs": [],
   "source": [
    "df_combined['swap'].fillna('Diğer',inplace=True)"
   ]
  },
  {
   "cell_type": "code",
   "execution_count": 43,
   "metadata": {},
   "outputs": [
    {
     "data": {
      "text/plain": [
       "Hayır    12553\n",
       "Diğer     5464\n",
       "Evet      2215\n",
       "Name: swap, dtype: int64"
      ]
     },
     "execution_count": 43,
     "metadata": {},
     "output_type": "execute_result"
    }
   ],
   "source": [
    "df_combined['swap'].value_counts()"
   ]
  },
  {
   "cell_type": "code",
   "execution_count": 44,
   "metadata": {},
   "outputs": [],
   "source": [
    "mapper_swap = {\n",
    "    'Evet': 1,\n",
    "    'Diğer': 2,\n",
    "    'Hayır': 3\n",
    "}\n",
    "\n",
    "df_combined['swap'] = df_combined['swap'].map(mapper_swap)\n",
    "df_combined['swap'] = df_combined['swap'].astype('int64')"
   ]
  },
  {
   "cell_type": "code",
   "execution_count": 45,
   "metadata": {},
   "outputs": [],
   "source": [
    "df_combined['student_single'].fillna('Diğer',inplace=True)"
   ]
  },
  {
   "cell_type": "code",
   "execution_count": 46,
   "metadata": {},
   "outputs": [
    {
     "data": {
      "text/plain": [
       "Evet     11249\n",
       "Diğer     8983\n",
       "Name: student_single, dtype: int64"
      ]
     },
     "execution_count": 46,
     "metadata": {},
     "output_type": "execute_result"
    }
   ],
   "source": [
    "df_combined['student_single'].value_counts()"
   ]
  },
  {
   "cell_type": "code",
   "execution_count": 47,
   "metadata": {},
   "outputs": [],
   "source": [
    "df_combined['facade'] = df_combined['facade'].fillna('Güney')\n",
    "\n",
    "mapper = {\n",
    "    'Güney,': 'Güney',\n",
    "    'Kuzey,': 'Kuzey',\n",
    "    'Doğu,': 'Doğu'\n",
    "}\n",
    "df_combined['facade'] = df_combined['facade'].map(mapper).fillna(df_combined['facade'])"
   ]
  },
  {
   "cell_type": "code",
   "execution_count": 48,
   "metadata": {},
   "outputs": [
    {
     "data": {
      "text/plain": [
       "Güney    15216\n",
       "Kuzey     3082\n",
       "Doğu      1457\n",
       "Batı       477\n",
       "Name: facade, dtype: int64"
      ]
     },
     "execution_count": 48,
     "metadata": {},
     "output_type": "execute_result"
    }
   ],
   "source": [
    "df_combined['facade'].value_counts()"
   ]
  },
  {
   "cell_type": "code",
   "execution_count": 49,
   "metadata": {},
   "outputs": [],
   "source": [
    "df_combined['fuel_type'].fillna('Diğer',inplace=True)"
   ]
  },
  {
   "cell_type": "code",
   "execution_count": 50,
   "metadata": {},
   "outputs": [
    {
     "data": {
      "text/plain": [
       "Doğalgaz      18479\n",
       "Diğer          1538\n",
       "Elektrik        186\n",
       "Kömür-Odun       18\n",
       "Akaryakıt        11\n",
       "Name: fuel_type, dtype: int64"
      ]
     },
     "execution_count": 50,
     "metadata": {},
     "output_type": "execute_result"
    }
   ],
   "source": [
    "df_combined['fuel_type'].value_counts()"
   ]
  },
  {
   "cell_type": "code",
   "execution_count": 51,
   "metadata": {},
   "outputs": [
    {
     "name": "stdout",
     "output_type": "stream",
     "text": [
      "<class 'pandas.core.frame.DataFrame'>\n",
      "Int64Index: 20232 entries, 0 to 25118\n",
      "Data columns (total 24 columns):\n",
      " #   Column                  Non-Null Count  Dtype  \n",
      "---  ------                  --------------  -----  \n",
      " 0   city                    20232 non-null  object \n",
      " 1   district                20232 non-null  object \n",
      " 2   neighborhood            20232 non-null  object \n",
      " 3   prop_type               20232 non-null  object \n",
      " 4   rooms                   20232 non-null  int64  \n",
      " 5   living_room             20232 non-null  int64  \n",
      " 6   price                   20232 non-null  int64  \n",
      " 7   last_edit               20232 non-null  int64  \n",
      " 8   area                    20232 non-null  float64\n",
      " 9   prop_floor              20232 non-null  int64  \n",
      " 10  building_age            20232 non-null  int64  \n",
      " 11  heating_type            20232 non-null  int64  \n",
      " 12  building_floors         20232 non-null  int64  \n",
      " 13  credit_availability     20232 non-null  object \n",
      " 14  furniture_availability  20232 non-null  object \n",
      " 15  bathrooms               20232 non-null  int64  \n",
      " 16  building_type           20232 non-null  object \n",
      " 17  building_status         20232 non-null  int64  \n",
      " 18  usage_status            20232 non-null  object \n",
      " 19  deed                    20232 non-null  object \n",
      " 20  swap                    20232 non-null  int64  \n",
      " 21  student_single          20232 non-null  object \n",
      " 22  facade                  20232 non-null  object \n",
      " 23  fuel_type               20232 non-null  object \n",
      "dtypes: float64(1), int64(11), object(12)\n",
      "memory usage: 3.9+ MB\n"
     ]
    }
   ],
   "source": [
    "df_combined.info()"
   ]
  },
  {
   "cell_type": "code",
   "execution_count": 52,
   "metadata": {},
   "outputs": [],
   "source": [
    "df_combined.to_pickle(\"./data/clean.pkl\")"
   ]
  },
  {
   "cell_type": "code",
   "execution_count": null,
   "metadata": {},
   "outputs": [],
   "source": []
  },
  {
   "cell_type": "code",
   "execution_count": null,
   "metadata": {},
   "outputs": [],
   "source": []
  },
  {
   "cell_type": "code",
   "execution_count": null,
   "metadata": {},
   "outputs": [],
   "source": []
  },
  {
   "cell_type": "code",
   "execution_count": null,
   "metadata": {},
   "outputs": [],
   "source": []
  },
  {
   "cell_type": "code",
   "execution_count": null,
   "metadata": {},
   "outputs": [],
   "source": []
  },
  {
   "cell_type": "code",
   "execution_count": null,
   "metadata": {},
   "outputs": [],
   "source": []
  },
  {
   "cell_type": "code",
   "execution_count": null,
   "metadata": {},
   "outputs": [],
   "source": []
  },
  {
   "cell_type": "code",
   "execution_count": null,
   "metadata": {},
   "outputs": [],
   "source": []
  },
  {
   "cell_type": "code",
   "execution_count": null,
   "metadata": {},
   "outputs": [],
   "source": []
  },
  {
   "cell_type": "code",
   "execution_count": null,
   "metadata": {},
   "outputs": [],
   "source": []
  }
 ],
 "metadata": {
  "kernelspec": {
   "display_name": "DataScience",
   "language": "python",
   "name": "datascience"
  },
  "language_info": {
   "codemirror_mode": {
    "name": "ipython",
    "version": 3
   },
   "file_extension": ".py",
   "mimetype": "text/x-python",
   "name": "python",
   "nbconvert_exporter": "python",
   "pygments_lexer": "ipython3",
   "version": "3.7.7"
  }
 },
 "nbformat": 4,
 "nbformat_minor": 4
}
